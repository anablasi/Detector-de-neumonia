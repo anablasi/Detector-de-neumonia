{
  "nbformat": 4,
  "nbformat_minor": 0,
  "metadata": {
    "colab": {
      "name": "neumonia.ipynb",
      "provenance": [],
      "collapsed_sections": []
    },
    "kernelspec": {
      "name": "python3",
      "display_name": "Python 3"
    },
    "language_info": {
      "name": "python"
    },
    "widgets": {
      "application/vnd.jupyter.widget-state+json": {
        "b067480bc03e4337be4899fe869368e6": {
          "model_module": "@jupyter-widgets/controls",
          "model_name": "VBoxModel",
          "state": {
            "_view_name": "VBoxView",
            "_dom_classes": [],
            "_model_name": "VBoxModel",
            "_view_module": "@jupyter-widgets/controls",
            "_model_module_version": "1.5.0",
            "_view_count": null,
            "_view_module_version": "1.5.0",
            "box_style": "",
            "layout": "IPY_MODEL_bc4fb102eee24d7885d7594b304462c4",
            "_model_module": "@jupyter-widgets/controls",
            "children": [
              "IPY_MODEL_9306ea4e102140c492bec552a90f4004",
              "IPY_MODEL_b9359cdc161e422a895bb4b71de62e3f",
              "IPY_MODEL_6128ec433f6345268f5ff5e997dccdec",
              "IPY_MODEL_5a8125f137e84d748795947c46edaf88",
              "IPY_MODEL_92ac66dded5c49e89750c229609a4471"
            ]
          }
        },
        "bc4fb102eee24d7885d7594b304462c4": {
          "model_module": "@jupyter-widgets/base",
          "model_name": "LayoutModel",
          "state": {
            "_view_name": "LayoutView",
            "grid_template_rows": null,
            "right": null,
            "justify_content": null,
            "_view_module": "@jupyter-widgets/base",
            "overflow": null,
            "_model_module_version": "1.2.0",
            "_view_count": null,
            "flex_flow": null,
            "width": null,
            "min_width": null,
            "border": null,
            "align_items": null,
            "bottom": null,
            "_model_module": "@jupyter-widgets/base",
            "top": null,
            "grid_column": null,
            "overflow_y": null,
            "overflow_x": null,
            "grid_auto_flow": null,
            "grid_area": null,
            "grid_template_columns": null,
            "flex": null,
            "_model_name": "LayoutModel",
            "justify_items": null,
            "grid_row": null,
            "max_height": null,
            "align_content": null,
            "visibility": null,
            "align_self": null,
            "height": null,
            "min_height": null,
            "padding": null,
            "grid_auto_rows": null,
            "grid_gap": null,
            "max_width": null,
            "order": null,
            "_view_module_version": "1.2.0",
            "grid_template_areas": null,
            "object_position": null,
            "object_fit": null,
            "grid_auto_columns": null,
            "margin": null,
            "display": null,
            "left": null
          }
        },
        "9306ea4e102140c492bec552a90f4004": {
          "model_module": "@jupyter-widgets/controls",
          "model_name": "LabelModel",
          "state": {
            "_view_name": "LabelView",
            "style": "IPY_MODEL_77898554ba634ff988fbc1ac641de7e0",
            "_dom_classes": [],
            "description": "",
            "_model_name": "LabelModel",
            "placeholder": "​",
            "_view_module": "@jupyter-widgets/controls",
            "_model_module_version": "1.5.0",
            "value": "Seleciona una radiografía",
            "_view_count": null,
            "_view_module_version": "1.5.0",
            "description_tooltip": null,
            "_model_module": "@jupyter-widgets/controls",
            "layout": "IPY_MODEL_7a834aa73c4f4108b26d9de732e0c41a"
          }
        },
        "b9359cdc161e422a895bb4b71de62e3f": {
          "model_module": "@jupyter-widgets/controls",
          "model_name": "FileUploadModel",
          "state": {
            "_view_name": "FileUploadView",
            "_counter": 2,
            "style": "IPY_MODEL_940e60fed1b44789b97d1003efa3ae95",
            "_dom_classes": [],
            "description": "Upload",
            "multiple": false,
            "_model_name": "FileUploadModel",
            "data": [
              null
            ],
            "button_style": "",
            "_view_module": "@jupyter-widgets/controls",
            "_model_module_version": "1.5.0",
            "accept": "",
            "_view_count": null,
            "disabled": false,
            "_view_module_version": "1.5.0",
            "error": "",
            "description_tooltip": null,
            "metadata": [
              {
                "name": "person100_bacteria_480.jpeg",
                "type": "image/jpeg",
                "size": 45177,
                "lastModified": 1624034523000
              }
            ],
            "_model_module": "@jupyter-widgets/controls",
            "layout": "IPY_MODEL_298c97578f2749c697fd6e3ad084d0dc",
            "icon": "upload"
          }
        },
        "6128ec433f6345268f5ff5e997dccdec": {
          "model_module": "@jupyter-widgets/controls",
          "model_name": "ButtonModel",
          "state": {
            "_view_name": "ButtonView",
            "style": "IPY_MODEL_27c116edab64403eb4dd640185e16672",
            "_dom_classes": [],
            "description": "Classify",
            "_model_name": "ButtonModel",
            "button_style": "",
            "_view_module": "@jupyter-widgets/controls",
            "_model_module_version": "1.5.0",
            "tooltip": "",
            "_view_count": null,
            "disabled": false,
            "_view_module_version": "1.5.0",
            "layout": "IPY_MODEL_3aa2db4d022e470185fae5716150635f",
            "_model_module": "@jupyter-widgets/controls",
            "icon": ""
          }
        },
        "5a8125f137e84d748795947c46edaf88": {
          "model_module": "@jupyter-widgets/output",
          "model_name": "OutputModel",
          "state": {
            "_view_name": "OutputView",
            "msg_id": "",
            "_dom_classes": [],
            "_model_name": "OutputModel",
            "outputs": [
              {
                "output_type": "display_data",
                "metadata": {
                  "tags": []
                },
                "image/png": "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\n",
                "text/plain": "<PIL.Image.Image image mode=RGB size=224x136 at 0x7F4CA1F1A490>"
              }
            ],
            "_view_module": "@jupyter-widgets/output",
            "_model_module_version": "1.0.0",
            "_view_count": null,
            "_view_module_version": "1.0.0",
            "layout": "IPY_MODEL_ae7efef272404acc91165b7af5e1df25",
            "_model_module": "@jupyter-widgets/output"
          }
        },
        "92ac66dded5c49e89750c229609a4471": {
          "model_module": "@jupyter-widgets/controls",
          "model_name": "LabelModel",
          "state": {
            "_view_name": "LabelView",
            "style": "IPY_MODEL_dd80a755d7ae49e8bee4ff41555d331b",
            "_dom_classes": [],
            "description": "",
            "_model_name": "LabelModel",
            "placeholder": "​",
            "_view_module": "@jupyter-widgets/controls",
            "_model_module_version": "1.5.0",
            "value": "Prediction: NEUMONIA; Probability: 1.0000",
            "_view_count": null,
            "_view_module_version": "1.5.0",
            "description_tooltip": null,
            "_model_module": "@jupyter-widgets/controls",
            "layout": "IPY_MODEL_251e033427bf43c5915eb957b87c2138"
          }
        },
        "77898554ba634ff988fbc1ac641de7e0": {
          "model_module": "@jupyter-widgets/controls",
          "model_name": "DescriptionStyleModel",
          "state": {
            "_view_name": "StyleView",
            "_model_name": "DescriptionStyleModel",
            "description_width": "",
            "_view_module": "@jupyter-widgets/base",
            "_model_module_version": "1.5.0",
            "_view_count": null,
            "_view_module_version": "1.2.0",
            "_model_module": "@jupyter-widgets/controls"
          }
        },
        "7a834aa73c4f4108b26d9de732e0c41a": {
          "model_module": "@jupyter-widgets/base",
          "model_name": "LayoutModel",
          "state": {
            "_view_name": "LayoutView",
            "grid_template_rows": null,
            "right": null,
            "justify_content": null,
            "_view_module": "@jupyter-widgets/base",
            "overflow": null,
            "_model_module_version": "1.2.0",
            "_view_count": null,
            "flex_flow": null,
            "width": null,
            "min_width": null,
            "border": null,
            "align_items": null,
            "bottom": null,
            "_model_module": "@jupyter-widgets/base",
            "top": null,
            "grid_column": null,
            "overflow_y": null,
            "overflow_x": null,
            "grid_auto_flow": null,
            "grid_area": null,
            "grid_template_columns": null,
            "flex": null,
            "_model_name": "LayoutModel",
            "justify_items": null,
            "grid_row": null,
            "max_height": null,
            "align_content": null,
            "visibility": null,
            "align_self": null,
            "height": null,
            "min_height": null,
            "padding": null,
            "grid_auto_rows": null,
            "grid_gap": null,
            "max_width": null,
            "order": null,
            "_view_module_version": "1.2.0",
            "grid_template_areas": null,
            "object_position": null,
            "object_fit": null,
            "grid_auto_columns": null,
            "margin": null,
            "display": null,
            "left": null
          }
        },
        "940e60fed1b44789b97d1003efa3ae95": {
          "model_module": "@jupyter-widgets/controls",
          "model_name": "ButtonStyleModel",
          "state": {
            "_view_name": "StyleView",
            "_model_name": "ButtonStyleModel",
            "_view_module": "@jupyter-widgets/base",
            "_model_module_version": "1.5.0",
            "_view_count": null,
            "button_color": null,
            "font_weight": "",
            "_view_module_version": "1.2.0",
            "_model_module": "@jupyter-widgets/controls"
          }
        },
        "298c97578f2749c697fd6e3ad084d0dc": {
          "model_module": "@jupyter-widgets/base",
          "model_name": "LayoutModel",
          "state": {
            "_view_name": "LayoutView",
            "grid_template_rows": null,
            "right": null,
            "justify_content": null,
            "_view_module": "@jupyter-widgets/base",
            "overflow": null,
            "_model_module_version": "1.2.0",
            "_view_count": null,
            "flex_flow": null,
            "width": null,
            "min_width": null,
            "border": null,
            "align_items": null,
            "bottom": null,
            "_model_module": "@jupyter-widgets/base",
            "top": null,
            "grid_column": null,
            "overflow_y": null,
            "overflow_x": null,
            "grid_auto_flow": null,
            "grid_area": null,
            "grid_template_columns": null,
            "flex": null,
            "_model_name": "LayoutModel",
            "justify_items": null,
            "grid_row": null,
            "max_height": null,
            "align_content": null,
            "visibility": null,
            "align_self": null,
            "height": null,
            "min_height": null,
            "padding": null,
            "grid_auto_rows": null,
            "grid_gap": null,
            "max_width": null,
            "order": null,
            "_view_module_version": "1.2.0",
            "grid_template_areas": null,
            "object_position": null,
            "object_fit": null,
            "grid_auto_columns": null,
            "margin": null,
            "display": null,
            "left": null
          }
        },
        "27c116edab64403eb4dd640185e16672": {
          "model_module": "@jupyter-widgets/controls",
          "model_name": "ButtonStyleModel",
          "state": {
            "_view_name": "StyleView",
            "_model_name": "ButtonStyleModel",
            "_view_module": "@jupyter-widgets/base",
            "_model_module_version": "1.5.0",
            "_view_count": null,
            "button_color": null,
            "font_weight": "",
            "_view_module_version": "1.2.0",
            "_model_module": "@jupyter-widgets/controls"
          }
        },
        "3aa2db4d022e470185fae5716150635f": {
          "model_module": "@jupyter-widgets/base",
          "model_name": "LayoutModel",
          "state": {
            "_view_name": "LayoutView",
            "grid_template_rows": null,
            "right": null,
            "justify_content": null,
            "_view_module": "@jupyter-widgets/base",
            "overflow": null,
            "_model_module_version": "1.2.0",
            "_view_count": null,
            "flex_flow": null,
            "width": null,
            "min_width": null,
            "border": null,
            "align_items": null,
            "bottom": null,
            "_model_module": "@jupyter-widgets/base",
            "top": null,
            "grid_column": null,
            "overflow_y": null,
            "overflow_x": null,
            "grid_auto_flow": null,
            "grid_area": null,
            "grid_template_columns": null,
            "flex": null,
            "_model_name": "LayoutModel",
            "justify_items": null,
            "grid_row": null,
            "max_height": null,
            "align_content": null,
            "visibility": null,
            "align_self": null,
            "height": null,
            "min_height": null,
            "padding": null,
            "grid_auto_rows": null,
            "grid_gap": null,
            "max_width": null,
            "order": null,
            "_view_module_version": "1.2.0",
            "grid_template_areas": null,
            "object_position": null,
            "object_fit": null,
            "grid_auto_columns": null,
            "margin": null,
            "display": null,
            "left": null
          }
        },
        "dd80a755d7ae49e8bee4ff41555d331b": {
          "model_module": "@jupyter-widgets/controls",
          "model_name": "DescriptionStyleModel",
          "state": {
            "_view_name": "StyleView",
            "_model_name": "DescriptionStyleModel",
            "description_width": "",
            "_view_module": "@jupyter-widgets/base",
            "_model_module_version": "1.5.0",
            "_view_count": null,
            "_view_module_version": "1.2.0",
            "_model_module": "@jupyter-widgets/controls"
          }
        },
        "251e033427bf43c5915eb957b87c2138": {
          "model_module": "@jupyter-widgets/base",
          "model_name": "LayoutModel",
          "state": {
            "_view_name": "LayoutView",
            "grid_template_rows": null,
            "right": null,
            "justify_content": null,
            "_view_module": "@jupyter-widgets/base",
            "overflow": null,
            "_model_module_version": "1.2.0",
            "_view_count": null,
            "flex_flow": null,
            "width": null,
            "min_width": null,
            "border": null,
            "align_items": null,
            "bottom": null,
            "_model_module": "@jupyter-widgets/base",
            "top": null,
            "grid_column": null,
            "overflow_y": null,
            "overflow_x": null,
            "grid_auto_flow": null,
            "grid_area": null,
            "grid_template_columns": null,
            "flex": null,
            "_model_name": "LayoutModel",
            "justify_items": null,
            "grid_row": null,
            "max_height": null,
            "align_content": null,
            "visibility": null,
            "align_self": null,
            "height": null,
            "min_height": null,
            "padding": null,
            "grid_auto_rows": null,
            "grid_gap": null,
            "max_width": null,
            "order": null,
            "_view_module_version": "1.2.0",
            "grid_template_areas": null,
            "object_position": null,
            "object_fit": null,
            "grid_auto_columns": null,
            "margin": null,
            "display": null,
            "left": null
          }
        },
        "ae7efef272404acc91165b7af5e1df25": {
          "model_module": "@jupyter-widgets/base",
          "model_name": "LayoutModel",
          "state": {
            "_view_name": "LayoutView",
            "grid_template_rows": null,
            "right": null,
            "justify_content": null,
            "_view_module": "@jupyter-widgets/base",
            "overflow": null,
            "_model_module_version": "1.2.0",
            "_view_count": null,
            "flex_flow": null,
            "width": null,
            "min_width": null,
            "border": null,
            "align_items": null,
            "bottom": null,
            "_model_module": "@jupyter-widgets/base",
            "top": null,
            "grid_column": null,
            "overflow_y": null,
            "overflow_x": null,
            "grid_auto_flow": null,
            "grid_area": null,
            "grid_template_columns": null,
            "flex": null,
            "_model_name": "LayoutModel",
            "justify_items": null,
            "grid_row": null,
            "max_height": null,
            "align_content": null,
            "visibility": null,
            "align_self": null,
            "height": null,
            "min_height": null,
            "padding": null,
            "grid_auto_rows": null,
            "grid_gap": null,
            "max_width": null,
            "order": null,
            "_view_module_version": "1.2.0",
            "grid_template_areas": null,
            "object_position": null,
            "object_fit": null,
            "grid_auto_columns": null,
            "margin": null,
            "display": null,
            "left": null
          }
        }
      }
    }
  },
  "cells": [
    {
      "cell_type": "markdown",
      "metadata": {
        "id": "oUITzrCrVBGw"
      },
      "source": [
        "#Detector de neumonía"
      ]
    },
    {
      "cell_type": "markdown",
      "metadata": {
        "id": "acbpL3dYVA_O"
      },
      "source": [
        "#####Este programa es capaz de predecir si desde una imágen de una radiografía torácica se detecta neumonía.\n",
        "Recomendado usarlo en Colab\n"
      ]
    },
    {
      "cell_type": "markdown",
      "metadata": {
        "id": "wBowk-IWVhTs"
      },
      "source": [
        "###Conectar con google drive"
      ]
    },
    {
      "cell_type": "code",
      "metadata": {
        "id": "shq8qXuGSLOX"
      },
      "source": [
        "import sys\n",
        "def in_colab():\n",
        "    \"Check if the code is running in Google Colaboratory\"\n",
        "    return 'google.colab' in sys.modules"
      ],
      "execution_count": 11,
      "outputs": []
    },
    {
      "cell_type": "code",
      "metadata": {
        "colab": {
          "base_uri": "https://localhost:8080/"
        },
        "id": "hZ4w8iiBSKpT",
        "outputId": "6db58266-39ca-4736-c21e-553230367fb5"
      },
      "source": [
        "if in_colab():\n",
        "  from google.colab import drive\n",
        "  drive.mount('/content/drive', force_remount=True)"
      ],
      "execution_count": 12,
      "outputs": [
        {
          "output_type": "stream",
          "text": [
            "Mounted at /content/drive\n"
          ],
          "name": "stdout"
        }
      ]
    },
    {
      "cell_type": "markdown",
      "metadata": {
        "id": "WpTyqoHTVpUJ"
      },
      "source": [
        "### Instalar fastai"
      ]
    },
    {
      "cell_type": "code",
      "metadata": {
        "id": "U2-rfuHjkVUs"
      },
      "source": [
        "!pip3 install --upgrade fastai > /dev/null"
      ],
      "execution_count": 13,
      "outputs": []
    },
    {
      "cell_type": "markdown",
      "metadata": {
        "id": "UURyrWKQVsoV"
      },
      "source": [
        "### Importaciones"
      ]
    },
    {
      "cell_type": "code",
      "metadata": {
        "id": "fwJ6ZUk_j1cj"
      },
      "source": [
        "from fastai.vision.all import *\n",
        "from fastai.vision.widgets import *\n",
        "from pathlib import Path"
      ],
      "execution_count": 14,
      "outputs": []
    },
    {
      "cell_type": "markdown",
      "metadata": {
        "id": "xBgXgtvVVw03"
      },
      "source": [
        "##PROGRAMA"
      ]
    },
    {
      "cell_type": "code",
      "metadata": {
        "id": "ddBhTqmrj0qd"
      },
      "source": [
        "path = Path('/content/drive/MyDrive/tfg/modelo')\n",
        "learn_inf = load_learner(path/'resnet50_modelo.pkl')\n",
        "btn_upload = widgets.FileUpload()\n",
        "out_pl = widgets.Output()\n",
        "lbl_pred = widgets.Label()"
      ],
      "execution_count": 31,
      "outputs": []
    },
    {
      "cell_type": "code",
      "metadata": {
        "id": "z7oMrtOpkONy"
      },
      "source": [
        "def on_data_change(change):\n",
        "    lbl_pred.value = ''\n",
        "    img = PILImage.create(btn_upload.data[-1])\n",
        "    out_pl.clear_output()\n",
        "    with out_pl: display(img.to_thumb(224,224))\n",
        "    pred,pred_idx,probs = learn_inf.predict(img)\n",
        "    lbl_pred.value = f'Prediction: {pred}; Probability: {probs[pred_idx]:.04f}'"
      ],
      "execution_count": 32,
      "outputs": []
    },
    {
      "cell_type": "code",
      "metadata": {
        "id": "VFs-eYTAkdi4"
      },
      "source": [
        "btn_run = widgets.Button(description='Classify')\n",
        "btn_upload.observe(on_data_change, names=['data'])"
      ],
      "execution_count": 33,
      "outputs": []
    },
    {
      "cell_type": "markdown",
      "metadata": {
        "id": "r1iWwtIHV0ib"
      },
      "source": [
        "##Clasificador"
      ]
    },
    {
      "cell_type": "code",
      "metadata": {
        "colab": {
          "base_uri": "https://localhost:8080/",
          "height": 281,
          "referenced_widgets": [
            "b067480bc03e4337be4899fe869368e6",
            "bc4fb102eee24d7885d7594b304462c4",
            "9306ea4e102140c492bec552a90f4004",
            "b9359cdc161e422a895bb4b71de62e3f",
            "6128ec433f6345268f5ff5e997dccdec",
            "5a8125f137e84d748795947c46edaf88",
            "92ac66dded5c49e89750c229609a4471",
            "77898554ba634ff988fbc1ac641de7e0",
            "7a834aa73c4f4108b26d9de732e0c41a",
            "940e60fed1b44789b97d1003efa3ae95",
            "298c97578f2749c697fd6e3ad084d0dc",
            "27c116edab64403eb4dd640185e16672",
            "3aa2db4d022e470185fae5716150635f",
            "dd80a755d7ae49e8bee4ff41555d331b",
            "251e033427bf43c5915eb957b87c2138",
            "ae7efef272404acc91165b7af5e1df25"
          ]
        },
        "id": "Onjn-gEFkjKZ",
        "outputId": "7df1e13b-7241-43b8-d21a-fb63ad9e32fa"
      },
      "source": [
        "display(VBox([widgets.Label('Seleciona una radiografía'), btn_upload, btn_run, out_pl, lbl_pred]))"
      ],
      "execution_count": 34,
      "outputs": [
        {
          "output_type": "display_data",
          "data": {
            "application/vnd.jupyter.widget-view+json": {
              "model_id": "b067480bc03e4337be4899fe869368e6",
              "version_minor": 0,
              "version_major": 2
            },
            "text/plain": [
              "VBox(children=(Label(value='Seleciona una radiografía'), FileUpload(value={}, description='Upload'), Button(de…"
            ]
          },
          "metadata": {
            "tags": []
          }
        },
        {
          "output_type": "display_data",
          "data": {
            "text/html": [
              ""
            ],
            "text/plain": [
              "<IPython.core.display.HTML object>"
            ]
          },
          "metadata": {
            "tags": []
          }
        },
        {
          "output_type": "display_data",
          "data": {
            "text/html": [
              ""
            ],
            "text/plain": [
              "<IPython.core.display.HTML object>"
            ]
          },
          "metadata": {
            "tags": []
          }
        }
      ]
    },
    {
      "cell_type": "code",
      "metadata": {
        "id": "HN9-QZPYrxnG"
      },
      "source": [
        ""
      ],
      "execution_count": null,
      "outputs": []
    }
  ]
}